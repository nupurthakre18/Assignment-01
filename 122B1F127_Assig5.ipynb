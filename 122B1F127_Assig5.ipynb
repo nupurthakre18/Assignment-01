{
 "cells": [
  {
   "cell_type": "code",
   "execution_count": 3,
   "id": "7905acd8-5f78-4b8c-871b-73e4642e26fb",
   "metadata": {},
   "outputs": [],
   "source": [
    "import pandas as pd\n",
    "from sklearn.model_selection import train_test_split\n",
    "from sklearn.preprocessing import LabelEncoder, StandardScaler"
   ]
  },
  {
   "cell_type": "code",
   "execution_count": 6,
   "id": "46985028-81f5-4d64-9d66-23ed0120d92f",
   "metadata": {},
   "outputs": [
    {
     "name": "stdout",
     "output_type": "stream",
     "text": [
      "             Date                   Country                          Status  \\\n",
      "0      2022-07-21                   Albania                            Good   \n",
      "1      2022-07-21                   Algeria                        Moderate   \n",
      "2      2022-07-21                   Andorra                        Moderate   \n",
      "3      2022-07-21                    Angola  Unhealthy for Sensitive Groups   \n",
      "4      2022-07-21                 Argentina                        Moderate   \n",
      "...           ...                       ...                             ...   \n",
      "15806  2024-10-24  United States of America  Unhealthy for Sensitive Groups   \n",
      "15807  2024-10-24                Uzbekistan                       Unhealthy   \n",
      "15808  2024-10-24                   Vatican                        Moderate   \n",
      "15809  2024-10-24                 Venezuela                            Good   \n",
      "15810  2024-10-24                   Vietnam                        Moderate   \n",
      "\n",
      "       AQI Value  \n",
      "0             14  \n",
      "1             65  \n",
      "2             55  \n",
      "3            113  \n",
      "4             63  \n",
      "...          ...  \n",
      "15806        116  \n",
      "15807        180  \n",
      "15808         53  \n",
      "15809         24  \n",
      "15810         65  \n",
      "\n",
      "[15811 rows x 4 columns]\n"
     ]
    }
   ],
   "source": [
    "df=pd.read_csv('Downloads/archive (3)/data_date.csv')\n",
    "print(df)"
   ]
  },
  {
   "cell_type": "code",
   "execution_count": 7,
   "id": "1355acd0-23fd-48d4-be94-acdc59e55c96",
   "metadata": {},
   "outputs": [],
   "source": [
    "data_cleaned=df.dropna()"
   ]
  },
  {
   "cell_type": "code",
   "execution_count": 8,
   "id": "fd3b3afa-5b6c-4110-a717-6c16ae38de85",
   "metadata": {},
   "outputs": [],
   "source": [
    "data_cleaned['Date'] = pd.to_datetime(data_cleaned['Date'])"
   ]
  },
  {
   "cell_type": "code",
   "execution_count": 9,
   "id": "25b58237-ec8d-41e3-bd5c-ae8198fd281e",
   "metadata": {},
   "outputs": [],
   "source": [
    "data_cleaned['Year'] = data_cleaned['Date'].dt.year\n",
    "data_cleaned['Month'] = data_cleaned['Date'].dt.month\n",
    "data_cleaned['Day'] = data_cleaned['Date'].dt.day"
   ]
  },
  {
   "cell_type": "code",
   "execution_count": 10,
   "id": "8da9eb2f-fab9-445d-b918-7e363278fc6b",
   "metadata": {},
   "outputs": [],
   "source": [
    "data_cleaned = data_cleaned.drop(columns=['Date'])"
   ]
  },
  {
   "cell_type": "code",
   "execution_count": 11,
   "id": "927eb88e-dc65-49a7-8203-86ac76da1bd0",
   "metadata": {},
   "outputs": [],
   "source": [
    "label_encoder_country = LabelEncoder()\n",
    "label_encoder_status = LabelEncoder()"
   ]
  },
  {
   "cell_type": "code",
   "execution_count": 12,
   "id": "659b4604-6572-4db8-8539-b40a80e91a85",
   "metadata": {},
   "outputs": [],
   "source": [
    "data_cleaned['Country'] = label_encoder_country.fit_transform(data_cleaned['Country'])\n",
    "data_cleaned['Status'] = label_encoder_status.fit_transform(data_cleaned['Status'])"
   ]
  },
  {
   "cell_type": "code",
   "execution_count": 13,
   "id": "ce156caf-4f94-49cb-9e36-3163b55c48ad",
   "metadata": {},
   "outputs": [],
   "source": [
    "scaler = StandardScaler()\n",
    "data_cleaned['AQI Value'] = scaler.fit_transform(data_cleaned[['AQI Value']])"
   ]
  },
  {
   "cell_type": "code",
   "execution_count": 14,
   "id": "7ee0acc0-002f-4647-9f85-dbde93606b76",
   "metadata": {},
   "outputs": [],
   "source": [
    "X = data_cleaned.drop(columns=['AQI Value'])\n",
    "y = data_cleaned['AQI Value']"
   ]
  },
  {
   "cell_type": "code",
   "execution_count": 15,
   "id": "79d43e36-e7dc-431a-a9b9-c655ee0effe6",
   "metadata": {},
   "outputs": [],
   "source": [
    "# Split the data into training and testing sets (80% training, 20% testing)\n",
    "X_train, X_test, y_train, y_test = train_test_split(X, y, test_size=0.2, random_state=42)"
   ]
  },
  {
   "cell_type": "raw",
   "id": "4501cbb6-1e0e-4d82-b06d-c9253a47f6c2",
   "metadata": {},
   "source": [
    "# Display the first few rows of the cleaned and preprocessed data\n",
    "print(data_cleaned.head())"
   ]
  },
  {
   "cell_type": "code",
   "execution_count": 16,
   "id": "4007654e-3d69-481b-83ef-648e5ad232d7",
   "metadata": {},
   "outputs": [
    {
     "name": "stdout",
     "output_type": "stream",
     "text": [
      "       Country  Status  AQI Value  Year  Month  Day\n",
      "0            0       0  -0.984233  2022      7   21\n",
      "1            1       2   0.069308  2022      7   21\n",
      "2            2       2  -0.137269  2022      7   21\n",
      "3            3       4   1.060876  2022      7   21\n",
      "4            4       2   0.027993  2022      7   21\n",
      "...        ...     ...        ...   ...    ...  ...\n",
      "15806      136       4   1.122849  2024     10   24\n",
      "15807      137       3   2.444940  2024     10   24\n",
      "15808      138       2  -0.178584  2024     10   24\n",
      "15809      139       0  -0.777657  2024     10   24\n",
      "15810      140       2   0.069308  2024     10   24\n",
      "\n",
      "[15811 rows x 6 columns]\n"
     ]
    }
   ],
   "source": [
    "print(data_cleaned)"
   ]
  },
  {
   "cell_type": "code",
   "execution_count": null,
   "id": "d9655927-1a0a-405a-afa2-0763e79de15a",
   "metadata": {},
   "outputs": [],
   "source": []
  },
  {
   "cell_type": "code",
   "execution_count": null,
   "id": "651a6837-ccb9-486b-bb16-dfe0d242ce86",
   "metadata": {},
   "outputs": [],
   "source": []
  }
 ],
 "metadata": {
  "kernelspec": {
   "display_name": "Python 3 (ipykernel)",
   "language": "python",
   "name": "python3"
  },
  "language_info": {
   "codemirror_mode": {
    "name": "ipython",
    "version": 3
   },
   "file_extension": ".py",
   "mimetype": "text/x-python",
   "name": "python",
   "nbconvert_exporter": "python",
   "pygments_lexer": "ipython3",
   "version": "3.12.5"
  }
 },
 "nbformat": 4,
 "nbformat_minor": 5
}
